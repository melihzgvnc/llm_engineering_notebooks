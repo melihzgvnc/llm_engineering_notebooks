{
 "cells": [
  {
   "cell_type": "code",
   "execution_count": 94,
   "id": "5aa1c260-c16f-4fe2-99b2-dab197bb18b6",
   "metadata": {},
   "outputs": [],
   "source": [
    "import os\n",
    "from dotenv import load_dotenv\n",
    "from langchain.document_loaders import PyPDFLoader\n",
    "from langchain.text_splitter import CharacterTextSplitter, TokenTextSplitter \n",
    "from langchain_openai import OpenAIEmbeddings\n",
    "from langchain_huggingface import HuggingFacePipeline\n",
    "from langchain_huggingface.embeddings import HuggingFaceEmbeddings\n",
    "from langchain_docling import DoclingLoader\n",
    "from langchain_chroma import Chroma\n",
    "from langchain_community.vectorstores.utils import filter_complex_metadata\n",
    "from langchain.memory import ConversationBufferMemory\n",
    "from langchain.prompts import ChatPromptTemplate, MessagesPlaceholder\n",
    "from langchain.schema.runnable import RunnablePassthrough\n",
    "from langchain.schema.output_parser import StrOutputParser\n",
    "from langchain.chains.combine_documents import create_stuff_documents_chain\n",
    "from langchain.chains import create_retrieval_chain, create_history_aware_retriever, ConversationalRetrievalChain\n",
    "from transformers import AutoModelForCausalLM, AutoTokenizer, pipeline"
   ]
  },
  {
   "cell_type": "code",
   "execution_count": 90,
   "id": "e76dfd55-1ea0-4031-b2dc-ac7c136b3fcd",
   "metadata": {},
   "outputs": [],
   "source": [
    "MODEL = \"meta-llama/Llama-3.2-1B\"\n",
    "db_name = \"vector_db\""
   ]
  },
  {
   "cell_type": "code",
   "execution_count": null,
   "id": "f76a910a-5d3d-4803-9b22-9b1fc434e18f",
   "metadata": {},
   "outputs": [],
   "source": [
    "FILE_PATH = [\"docs/cover_letter.docx\",\"docs/MelihOzguvenc_Resume.docx\"]\n",
    "\n",
    "loader = DoclingLoader(file_path=FILE_PATH)\n",
    "docs = loader.load()"
   ]
  },
  {
   "cell_type": "code",
   "execution_count": 69,
   "id": "1a1c3911-a6be-407a-9fad-38c823fa18fd",
   "metadata": {},
   "outputs": [],
   "source": [
    "splitter = TokenTextSplitter (chunk_size=500, chunk_overlap=50)\n",
    "chunks = splitter.split_documents(docs)\n",
    "chunks = filter_complex_metadata(chunks)"
   ]
  },
  {
   "cell_type": "code",
   "execution_count": null,
   "id": "afa6a30a-8eab-4273-b1bd-7d368a633542",
   "metadata": {},
   "outputs": [],
   "source": [
    "embeddings = HuggingFaceEmbeddings()\n",
    "\n",
    "if os.path.exists(db_name):\n",
    "    Chroma(persist_directory=db_name, embedding_function=embeddings).delete_collection()\n",
    "\n",
    "vectorstore = Chroma.from_documents(documents=chunks, embedding=embeddings, persist_directory=db_name)\n",
    "print(f\"Vectorstore created with {vectorstore._collection.count()} documents\")"
   ]
  },
  {
   "cell_type": "code",
   "execution_count": null,
   "id": "3df27274-f5ae-4ddf-a866-1a04afb2c8c6",
   "metadata": {},
   "outputs": [],
   "source": [
    "tokenizer = AutoTokenizer.from_pretrained(MODEL)\n",
    "model = AutoModelForCausalLM.from_pretrained(MODEL)\n",
    "pipe = pipeline(\n",
    "    task = \"text-generation\",\n",
    "    model=model,\n",
    "    tokenizer=tokenizer,\n",
    "    max_new_tokens=100\n",
    ")\n",
    "\n",
    "llm = HuggingFacePipeline(pipeline=pipe)"
   ]
  },
  {
   "cell_type": "code",
   "execution_count": 95,
   "id": "9265977a-644e-43fe-ad5a-483892748fd1",
   "metadata": {},
   "outputs": [],
   "source": [
    "memory = ConversationBufferMemory(memory_key='chat_history', return_messages=True)\n",
    "\n",
    "retriever = vectorstore.as_retriever()\n",
    "\n",
    "conversation_chain = ConversationalRetrievalChain.from_llm(llm=llm, retriever=retriever, memory=memory)"
   ]
  },
  {
   "cell_type": "code",
   "execution_count": null,
   "id": "0ae7120e-d8b4-4ac3-8713-13265be3dc87",
   "metadata": {},
   "outputs": [],
   "source": [
    "user_prompt = \"who is melih\"\n",
    "\n",
    "conversation_chain.invoke({\"question\": user_prompt})"
   ]
  },
  {
   "cell_type": "code",
   "execution_count": null,
   "id": "4dae524b-2c76-44f4-bc9b-45acec2f41c3",
   "metadata": {},
   "outputs": [],
   "source": []
  },
  {
   "cell_type": "code",
   "execution_count": null,
   "id": "12f8a6a6-246c-48e7-8640-cf4ca53c8f6f",
   "metadata": {},
   "outputs": [],
   "source": []
  }
 ],
 "metadata": {
  "kernelspec": {
   "display_name": "venv",
   "language": "python",
   "name": "venv"
  },
  "language_info": {
   "codemirror_mode": {
    "name": "ipython",
    "version": 3
   },
   "file_extension": ".py",
   "mimetype": "text/x-python",
   "name": "python",
   "nbconvert_exporter": "python",
   "pygments_lexer": "ipython3",
   "version": "3.12.8"
  }
 },
 "nbformat": 4,
 "nbformat_minor": 5
}
