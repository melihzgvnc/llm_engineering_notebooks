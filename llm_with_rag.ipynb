{
 "cells": [
  {
   "cell_type": "markdown",
   "id": "6896101f-ea0d-44ed-8213-5acf35e63d01",
   "metadata": {},
   "source": [
    "## SEARCHING WEB FOR ACCURATE RESPONSE\n",
    "\n",
    "In this tutorial we are using RAG technique with TavilyAPI which connects our LLM to the web to retrieve accurate and up-to-date information, mitigating hallucinations."
   ]
  },
  {
   "cell_type": "code",
   "execution_count": null,
   "id": "2fd9d766-71fc-44b8-9065-ccb2fa918c8f",
   "metadata": {},
   "outputs": [],
   "source": [
    "import os\n",
    "import gradio as gr\n",
    "from dotenv import load_dotenv\n",
    "from langchain.memory import ConversationBufferMemory\n",
    "from langchain.chains import ConversationalRetrievalChain\n",
    "from langchain_community.retrievers import TavilySearchAPIRetriever\n",
    "from langchain_openai import ChatOpenAI\n",
    "from langchain_huggingface import ChatHuggingFace, HuggingFacePipeline\n",
    "from transformers import AutoModelForCausalLM, AutoTokenizer, pipeline"
   ]
  },
  {
   "cell_type": "code",
   "execution_count": null,
   "id": "15502bc0-6a9f-4cb7-9410-854066edc2ea",
   "metadata": {},
   "outputs": [],
   "source": [
    "# setting up api keys\n",
    "\n",
    "load_dotenv()\n",
    "\n",
    "os.environ['TAVILY_API_KEY'] = os.getenv('TAVILY_API_KEY')\n",
    "os.environ['OPENAI_API_KEY'] = os.getenv('OPENAI_API_KEY')\n",
    "os.environ['HF_TOKEN'] = os.getenv('HF_TOKEN')"
   ]
  },
  {
   "cell_type": "code",
   "execution_count": null,
   "id": "20347a53-3fab-4fa5-bf84-ee2843c2c73d",
   "metadata": {},
   "outputs": [],
   "source": [
    "# model ids\n",
    "\n",
    "LLAMA = \"meta-llama/Llama-3.2-1B-Instruct\"\n",
    "GPT = \"gpt-4o-mini\""
   ]
  },
  {
   "cell_type": "code",
   "execution_count": null,
   "id": "e96a8535-4816-4fe3-b106-0985d8647e80",
   "metadata": {},
   "outputs": [],
   "source": [
    "# building pipeline with huggingface for llama\n",
    "\n",
    "tokenizer = AutoTokenizer.from_pretrained(MODEL)\n",
    "tokenizer.pad_token_id = tokenizer.eos_token_id\n",
    "model = AutoModelForCausalLM.from_pretrained(MODEL)\n",
    "pipe = pipeline(\n",
    "    \"text-generation\", model=LLAMA, tokenizer=tokenizer, max_new_tokens=512\n",
    ")"
   ]
  },
  {
   "cell_type": "code",
   "execution_count": null,
   "id": "99c018f2-cf2d-4365-9b6f-e108e8801237",
   "metadata": {},
   "outputs": [],
   "source": [
    "llm = ChatOpenAI(model_name=GPT, temperature=0.7)\n",
    "#llm = HuggingFacePipeline(pipeline=pipe)\n",
    "memory = ConversationBufferMemory(memory_key='chat_history', return_messages=True)\n",
    "\n",
    "# using tavily api to search web for the up-to-date information\n",
    "retriever = TavilySearchAPIRetriever(k=60)\n",
    "\n",
    "conversation_chain = ConversationalRetrievalChain.from_llm(llm=llm, retriever=retriever, memory=memory)"
   ]
  },
  {
   "cell_type": "code",
   "execution_count": null,
   "id": "e061e4a2-6328-4d66-addf-1baeaadbdcb3",
   "metadata": {},
   "outputs": [],
   "source": [
    "# creating interface using gradio\n",
    "\n",
    "def chat(question, history):\n",
    "    result = conversation_chain.invoke({\"question\": question})\n",
    "    return result[\"answer\"]\n",
    "\n",
    "view = gr.ChatInterface(chat, type=\"messages\").launch()"
   ]
  },
  {
   "cell_type": "code",
   "execution_count": null,
   "id": "69f8e777-f736-4837-8745-6d147bfcd729",
   "metadata": {},
   "outputs": [],
   "source": []
  },
  {
   "cell_type": "code",
   "execution_count": null,
   "id": "5094d0aa-613b-4e2a-991d-256c828bd01c",
   "metadata": {},
   "outputs": [],
   "source": []
  },
  {
   "cell_type": "code",
   "execution_count": null,
   "id": "faad4547-fc3d-42a2-b80c-897332041a2e",
   "metadata": {},
   "outputs": [],
   "source": []
  }
 ],
 "metadata": {
  "kernelspec": {
   "display_name": "Python 3 (ipykernel)",
   "language": "python",
   "name": "python3"
  },
  "language_info": {
   "codemirror_mode": {
    "name": "ipython",
    "version": 3
   },
   "file_extension": ".py",
   "mimetype": "text/x-python",
   "name": "python",
   "nbconvert_exporter": "python",
   "pygments_lexer": "ipython3",
   "version": "3.12.8"
  }
 },
 "nbformat": 4,
 "nbformat_minor": 5
}
